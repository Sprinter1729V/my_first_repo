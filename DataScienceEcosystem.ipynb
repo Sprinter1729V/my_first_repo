{
 "cells": [
  {
   "cell_type": "markdown",
   "id": "2c8ac2a9-4b12-472c-b39e-db6bd87e37e0",
   "metadata": {},
   "source": [
    "# Data Science Tools and Ecosystem"
   ]
  },
  {
   "cell_type": "markdown",
   "id": "7bd61e5b-78d4-4261-a89a-6bce7b729327",
   "metadata": {},
   "source": [
    "In this notebook, Data Science Tools and Ecosystem are summarized"
   ]
  },
  {
   "cell_type": "markdown",
   "id": "d84cc4de-32e8-4ef6-9f8a-0d9824d70bba",
   "metadata": {},
   "source": [
    "**Objectives:**\n",
    "- List of popular languages in Data Science\n",
    "- List of commonly used libraries in Data science\n",
    "- Data Science Tools\n"
   ]
  },
  {
   "cell_type": "markdown",
   "id": "8ba207c6-b841-485a-8b77-71b98bca124b",
   "metadata": {},
   "source": [
    "### Some of the popular languages that Data Scientista use are:\n",
    "1. Python\n",
    "2. R\n",
    "3. Julia\n",
    "4. Java\n",
    "5. Javascript\n",
    "6. Scala"
   ]
  },
  {
   "cell_type": "markdown",
   "id": "d57c45d3-9631-4965-adee-1bc5264b4de1",
   "metadata": {},
   "source": [
    "### Some of the commonly used libraries used by Data Scientists include:\n",
    "1. TensorFlow\n",
    "2. NumPy\n",
    "3. SciPy\n",
    "4. Pandas\n",
    "5. Scikit Learn\n",
    "6. Matplotlib\n",
    "7. Pytorch"
   ]
  },
  {
   "cell_type": "markdown",
   "id": "bf8b1b9c-2c19-4c10-af7f-f033fd52a7c2",
   "metadata": {},
   "source": [
    "| Data Science Tools |\n",
    "|--------------------|\n",
    "|      Hadoop        |\n",
    "|  Jupyter Notebooks |\n",
    "|      GitHub        |"
   ]
  },
  {
   "cell_type": "markdown",
   "id": "8cd68dbf-cdd6-4dcb-9203-d8429298d661",
   "metadata": {},
   "source": [
    "### Below are a few examples of evaluating arthematic expressions in Python\n",
    "- addition:<br>\n",
    "   x=2<br>\n",
    "   y=2<br>\n",
    "   z=x+y<br>\n",
    "   print(z)\n",
    "- Substraction:<br>\n",
    "   x=4<br>\n",
    "   y=3<br>\n",
    "   z=x-y<br>\n",
    "   print(z)\n",
    "- Multiplication:<br>\n",
    "   x=3<br>\n",
    "   y=2*x<br>\n",
    "   print(y)"
   ]
  },
  {
   "cell_type": "code",
   "execution_count": 2,
   "id": "fcdec15c-b93b-4b73-986f-15900ef75222",
   "metadata": {},
   "outputs": [
    {
     "data": {
      "text/plain": [
       "17"
      ]
     },
     "execution_count": 2,
     "metadata": {},
     "output_type": "execute_result"
    }
   ],
   "source": [
    "# This is a simply arthematic expression to multiply the add integers\n",
    "(3*4)+5"
   ]
  },
  {
   "cell_type": "code",
   "execution_count": 5,
   "id": "fc0a750e-0e79-4b7f-a67b-dfc93b5da2ea",
   "metadata": {},
   "outputs": [
    {
     "name": "stdout",
     "output_type": "stream",
     "text": [
      "3.3333333333333335 hrs\n"
     ]
    }
   ],
   "source": [
    "# This will convert 200 minutes to hours\n",
    "print(200/60,\"hrs\")"
   ]
  },
  {
   "cell_type": "markdown",
   "id": "13f1a619-f132-4a1c-9459-d21c50455199",
   "metadata": {},
   "source": [
    "## Author\n",
    "Vyshnavi Munagala"
   ]
  },
  {
   "cell_type": "code",
   "execution_count": null,
   "id": "a29a4db5-09fb-467a-9ed3-b979fe94a33f",
   "metadata": {},
   "outputs": [],
   "source": []
  }
 ],
 "metadata": {
  "kernelspec": {
   "display_name": "Python 3 (ipykernel)",
   "language": "python",
   "name": "python3"
  },
  "language_info": {
   "codemirror_mode": {
    "name": "ipython",
    "version": 3
   },
   "file_extension": ".py",
   "mimetype": "text/x-python",
   "name": "python",
   "nbconvert_exporter": "python",
   "pygments_lexer": "ipython3",
   "version": "3.11.7"
  }
 },
 "nbformat": 4,
 "nbformat_minor": 5
}
